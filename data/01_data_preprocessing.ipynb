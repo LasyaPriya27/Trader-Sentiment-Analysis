{
  "nbformat": 4,
  "nbformat_minor": 0,
  "metadata": {
    "colab": {
      "provenance": []
    },
    "kernelspec": {
      "name": "python3",
      "display_name": "Python 3"
    },
    "language_info": {
      "name": "python"
    }
  },
  "cells": [
    {
      "cell_type": "markdown",
      "source": [
        "Step 1: Import Required Libraries"
      ],
      "metadata": {
        "id": "bVU3u6ID0HOd"
      }
    },
    {
      "cell_type": "code",
      "execution_count": 3,
      "metadata": {
        "id": "sYuWHs-uyadq"
      },
      "outputs": [],
      "source": [
        "import pandas as pd\n",
        "import numpy as np\n",
        "from pathlib import Path"
      ]
    },
    {
      "cell_type": "markdown",
      "source": [
        "Step 2: Define Paths and Create Data Directory"
      ],
      "metadata": {
        "id": "GxAS5XCY0Hlk"
      }
    },
    {
      "cell_type": "code",
      "source": [
        "data_dir = Path(\"data\")\n",
        "merged_path = data_dir / \"merged_data.csv\"\n",
        "sample_path = data_dir / \"historical_data_sample.csv\"\n",
        "data_dir.mkdir(parents=True, exist_ok=True)"
      ],
      "metadata": {
        "id": "ypG3M6BlzmY7"
      },
      "execution_count": 4,
      "outputs": []
    },
    {
      "cell_type": "markdown",
      "source": [
        "Step 3: Load Data Files"
      ],
      "metadata": {
        "id": "9hCdGeId0IoZ"
      }
    },
    {
      "cell_type": "code",
      "source": [
        "try:\n",
        "    df_hist = pd.read_csv(data_dir / \"historical_data.csv\")\n",
        "    df_fg   = pd.read_csv(data_dir / \"fear_greed_index.csv\")\n",
        "except FileNotFoundError as e:\n",
        "    print(f\"Error: {e}\")\n",
        "    print(\"Please ensure the CSV files are placed in the 'data/' directory.\")\n",
        "    raise"
      ],
      "metadata": {
        "id": "3kfk3ZwvzpeW"
      },
      "execution_count": 5,
      "outputs": []
    },
    {
      "cell_type": "markdown",
      "source": [
        "Step 4: Inspect Data"
      ],
      "metadata": {
        "id": "kCFdgaZ20JLm"
      }
    },
    {
      "cell_type": "code",
      "source": [
        "print(\"--- Historical Data ---\")\n",
        "print(df_hist.columns.tolist())\n",
        "print(df_hist.info())\n",
        "print(\"--- Fear & Greed ---\")\n",
        "print(df_fg.columns.tolist())\n",
        "print(df_fg.info())"
      ],
      "metadata": {
        "colab": {
          "base_uri": "https://localhost:8080/"
        },
        "id": "s7fyjbsQztAG",
        "outputId": "a152e249-fc2f-4ae2-801d-a3c160385c6a"
      },
      "execution_count": 6,
      "outputs": [
        {
          "output_type": "stream",
          "name": "stdout",
          "text": [
            "--- Historical Data ---\n",
            "['Account', 'Coin', 'Execution Price', 'Size Tokens', 'Size USD', 'Side', 'Timestamp IST', 'Start Position', 'Direction', 'Closed PnL', 'Transaction Hash', 'Order ID', 'Crossed', 'Fee', 'Trade ID', 'Timestamp']\n",
            "<class 'pandas.core.frame.DataFrame'>\n",
            "RangeIndex: 211224 entries, 0 to 211223\n",
            "Data columns (total 16 columns):\n",
            " #   Column            Non-Null Count   Dtype  \n",
            "---  ------            --------------   -----  \n",
            " 0   Account           211224 non-null  object \n",
            " 1   Coin              211224 non-null  object \n",
            " 2   Execution Price   211224 non-null  float64\n",
            " 3   Size Tokens       211224 non-null  float64\n",
            " 4   Size USD          211224 non-null  float64\n",
            " 5   Side              211224 non-null  object \n",
            " 6   Timestamp IST     211224 non-null  object \n",
            " 7   Start Position    211224 non-null  float64\n",
            " 8   Direction         211224 non-null  object \n",
            " 9   Closed PnL        211224 non-null  float64\n",
            " 10  Transaction Hash  211224 non-null  object \n",
            " 11  Order ID          211224 non-null  int64  \n",
            " 12  Crossed           211224 non-null  bool   \n",
            " 13  Fee               211224 non-null  float64\n",
            " 14  Trade ID          211224 non-null  float64\n",
            " 15  Timestamp         211224 non-null  float64\n",
            "dtypes: bool(1), float64(8), int64(1), object(6)\n",
            "memory usage: 24.4+ MB\n",
            "None\n",
            "--- Fear & Greed ---\n",
            "['timestamp', 'value', 'classification', 'date']\n",
            "<class 'pandas.core.frame.DataFrame'>\n",
            "RangeIndex: 2644 entries, 0 to 2643\n",
            "Data columns (total 4 columns):\n",
            " #   Column          Non-Null Count  Dtype \n",
            "---  ------          --------------  ----- \n",
            " 0   timestamp       2644 non-null   int64 \n",
            " 1   value           2644 non-null   int64 \n",
            " 2   classification  2644 non-null   object\n",
            " 3   date            2644 non-null   object\n",
            "dtypes: int64(2), object(2)\n",
            "memory usage: 82.8+ KB\n",
            "None\n"
          ]
        }
      ]
    },
    {
      "cell_type": "markdown",
      "source": [
        "Step 5: Convert Timestamp to Datetime Format"
      ],
      "metadata": {
        "id": "E0rmHMNk0JpQ"
      }
    },
    {
      "cell_type": "code",
      "source": [
        "df_hist['time'] = pd.to_datetime(\n",
        "    df_hist['Timestamp IST'], format='%d-%m-%Y %H:%M', errors='coerce'\n",
        ")"
      ],
      "metadata": {
        "id": "5dvGIr9XzwEb"
      },
      "execution_count": 7,
      "outputs": []
    },
    {
      "cell_type": "markdown",
      "source": [
        "Step 6: Convert Columns to Numeric"
      ],
      "metadata": {
        "id": "2aQrWBSt0KDf"
      }
    },
    {
      "cell_type": "code",
      "source": [
        "numeric_cols = ['Execution Price', 'Size USD', 'Closed PnL']\n",
        "for col in numeric_cols:\n",
        "    df_hist[col] = pd.to_numeric(df_hist[col], errors='coerce')"
      ],
      "metadata": {
        "id": "hE6zg55Uz0Sn"
      },
      "execution_count": 8,
      "outputs": []
    },
    {
      "cell_type": "markdown",
      "source": [
        "Step 7: Create Date Column for Merge"
      ],
      "metadata": {
        "id": "srheiwrs0hha"
      }
    },
    {
      "cell_type": "code",
      "source": [
        "df_hist['date'] = df_hist['time'].dt.date\n",
        "\n",
        "df_fg['date'] = pd.to_datetime(df_fg['date']).dt.date\n",
        "df_fg.rename(columns={'classification': 'Sentiment'}, inplace=True)"
      ],
      "metadata": {
        "id": "bCR6I70tz8hX"
      },
      "execution_count": 9,
      "outputs": []
    },
    {
      "cell_type": "code",
      "source": [
        "# LOCALIZE to IST then convert to UTC"
      ],
      "metadata": {
        "id": "nK9BPk7_Hcg5"
      },
      "execution_count": 13,
      "outputs": []
    },
    {
      "cell_type": "code",
      "source": [
        "df_hist['time_ist'] = df_hist['time'].dt.tz_localize('Asia/Kolkata')\n",
        "df_hist['timestamp_utc'] = df_hist['time_ist'].dt.tz_convert('UTC')\n",
        "print(df_hist[['time','time_ist','timestamp_utc']].head())"
      ],
      "metadata": {
        "colab": {
          "base_uri": "https://localhost:8080/"
        },
        "id": "SF26Fjs9HjTT",
        "outputId": "24f7fc6c-6424-474a-d06d-ba38191cff06"
      },
      "execution_count": 14,
      "outputs": [
        {
          "output_type": "stream",
          "name": "stdout",
          "text": [
            "                 time                  time_ist             timestamp_utc\n",
            "0 2024-12-02 22:50:00 2024-12-02 22:50:00+05:30 2024-12-02 17:20:00+00:00\n",
            "1 2024-12-02 22:50:00 2024-12-02 22:50:00+05:30 2024-12-02 17:20:00+00:00\n",
            "2 2024-12-02 22:50:00 2024-12-02 22:50:00+05:30 2024-12-02 17:20:00+00:00\n",
            "3 2024-12-02 22:50:00 2024-12-02 22:50:00+05:30 2024-12-02 17:20:00+00:00\n",
            "4 2024-12-02 22:50:00 2024-12-02 22:50:00+05:30 2024-12-02 17:20:00+00:00\n"
          ]
        }
      ]
    },
    {
      "cell_type": "markdown",
      "source": [
        "Step 9: Save Merged Data to CSV"
      ],
      "metadata": {
        "id": "V8dbkodA0nY9"
      }
    },
    {
      "cell_type": "code",
      "source": [
        "df_merged.to_csv(merged_path, index=False)\n",
        "print(f\"Saved full merged dataset to: {merged_path}\")"
      ],
      "metadata": {
        "colab": {
          "base_uri": "https://localhost:8080/"
        },
        "id": "8ln-lr_j0ARi",
        "outputId": "eb48bc3f-62b9-4355-dc35-ad0763495ab4"
      },
      "execution_count": 20,
      "outputs": [
        {
          "output_type": "stream",
          "name": "stdout",
          "text": [
            "Saved full merged dataset to: data/merged_data.csv\n"
          ]
        }
      ]
    },
    {
      "cell_type": "markdown",
      "source": [
        "Step 10: Create Sample Dataset"
      ],
      "metadata": {
        "id": "o7fW2OPI0n_G"
      }
    },
    {
      "cell_type": "code",
      "source": [
        "if len(df_hist) >= 10000:\n",
        "    sample_df = df_hist.sample(n=10000, random_state=42)\n",
        "else:\n",
        "    sample_df = df_hist.copy()\n",
        "    print(\"Warning: Less than 10,000 rows in dataset, using full data for sample.\")\n",
        "\n",
        "sample_df.to_csv(sample_path, index=False)\n",
        "print(f\"Saved sample to: {sample_path}\")"
      ],
      "metadata": {
        "colab": {
          "base_uri": "https://localhost:8080/"
        },
        "id": "5IwWhdvj0EPp",
        "outputId": "95af0e0e-bde4-470d-b4a7-dd8e74a79018"
      },
      "execution_count": 17,
      "outputs": [
        {
          "output_type": "stream",
          "name": "stdout",
          "text": [
            "Saved sample to: data/historical_data_sample.csv\n"
          ]
        }
      ]
    }
  ]
}